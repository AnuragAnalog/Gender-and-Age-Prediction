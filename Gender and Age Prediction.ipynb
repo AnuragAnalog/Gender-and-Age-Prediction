{
  "nbformat": 4,
  "nbformat_minor": 0,
  "metadata": {
    "colab": {
      "name": "Gender and Age Prediction.ipynb",
      "provenance": [],
      "collapsed_sections": [],
      "toc_visible": true
    },
    "kernelspec": {
      "name": "python3",
      "display_name": "Python 3"
    },
    "language_info": {
      "name": "python"
    },
    "accelerator": "GPU"
  },
  "cells": [
    {
      "cell_type": "markdown",
      "metadata": {
        "id": "DfoTfTYEY1Xn"
      },
      "source": [
        "# Gender and Age Prediction"
      ]
    },
    {
      "cell_type": "markdown",
      "metadata": {
        "id": "EtLzwf_zY7MM"
      },
      "source": [
        "Dataset used was Kaggle's **AGE, GENDER AND ETHNICITY (FACE DATA) CSV** and can be found [here](https://www.kaggle.com/nipunarora8/age-gender-and-ethnicity-face-data-csv)"
      ]
    },
    {
      "cell_type": "code",
      "metadata": {
        "id": "wmi395lscPn6"
      },
      "source": [
        "# Required downloads\n",
        "\n",
        "!pip install -q kaggle"
      ],
      "execution_count": 1,
      "outputs": []
    },
    {
      "cell_type": "code",
      "metadata": {
        "id": "u5RQp3V4Yq-O"
      },
      "source": [
        "# Required modules\n",
        "\n",
        "import os\n",
        "import numpy as np\n",
        "import pandas as pd\n",
        "import seaborn as sns\n",
        "import tensorflow as tf\n",
        "\n",
        "from PIL import Image\n",
        "from zipfile import ZipFile\n",
        "from matplotlib import pyplot as plt"
      ],
      "execution_count": 2,
      "outputs": []
    },
    {
      "cell_type": "code",
      "metadata": {
        "id": "Nr2TEdx0bOzG"
      },
      "source": [
        "# Some configuration\n",
        "\n",
        "%matplotlib inline\n",
        "plt.rcParams['figure.figsize'] = (12, 7)"
      ],
      "execution_count": 3,
      "outputs": []
    },
    {
      "cell_type": "code",
      "metadata": {
        "id": "-w8GEppYbWFm"
      },
      "source": [
        "# Moving the credentials file to main dir\n",
        "\n",
        "!mkdir -p ~/.kaggle/\n",
        "!cp ./kaggle.json ~/.kaggle/\n",
        "!chmod 600 ~/.kaggle/kaggle.json"
      ],
      "execution_count": 4,
      "outputs": []
    },
    {
      "cell_type": "code",
      "metadata": {
        "colab": {
          "base_uri": "https://localhost:8080/"
        },
        "id": "pIF5Fe2ZxhlD",
        "outputId": "a56b4abb-6e70-4a53-f278-bb80b9c09934"
      },
      "source": [
        "# Download the dataset\n",
        "\n",
        "!kaggle datasets download -d nipunarora8/age-gender-and-ethnicity-face-data-csv"
      ],
      "execution_count": 5,
      "outputs": [
        {
          "output_type": "stream",
          "text": [
            "age-gender-and-ethnicity-face-data-csv.zip: Skipping, found more recently modified local copy (use --force to force download)\n"
          ],
          "name": "stdout"
        }
      ]
    },
    {
      "cell_type": "code",
      "metadata": {
        "id": "oZnQxn3mxlP-"
      },
      "source": [
        "# Extract the dataset\n",
        "\n",
        "with ZipFile('/content/age-gender-and-ethnicity-face-data-csv.zip', 'r') as zf:\n",
        "    zf.extractall('./')"
      ],
      "execution_count": 6,
      "outputs": []
    },
    {
      "cell_type": "code",
      "metadata": {
        "colab": {
          "base_uri": "https://localhost:8080/",
          "height": 206
        },
        "id": "tu__rs_-xxvq",
        "outputId": "60adb631-4e96-47f0-ac09-9aea5146daf3"
      },
      "source": [
        "# Loading the data\n",
        "\n",
        "data = pd.read_csv('age_gender.csv')\n",
        "data.head()"
      ],
      "execution_count": 7,
      "outputs": [
        {
          "output_type": "execute_result",
          "data": {
            "text/html": [
              "<div>\n",
              "<style scoped>\n",
              "    .dataframe tbody tr th:only-of-type {\n",
              "        vertical-align: middle;\n",
              "    }\n",
              "\n",
              "    .dataframe tbody tr th {\n",
              "        vertical-align: top;\n",
              "    }\n",
              "\n",
              "    .dataframe thead th {\n",
              "        text-align: right;\n",
              "    }\n",
              "</style>\n",
              "<table border=\"1\" class=\"dataframe\">\n",
              "  <thead>\n",
              "    <tr style=\"text-align: right;\">\n",
              "      <th></th>\n",
              "      <th>age</th>\n",
              "      <th>ethnicity</th>\n",
              "      <th>gender</th>\n",
              "      <th>img_name</th>\n",
              "      <th>pixels</th>\n",
              "    </tr>\n",
              "  </thead>\n",
              "  <tbody>\n",
              "    <tr>\n",
              "      <th>0</th>\n",
              "      <td>1</td>\n",
              "      <td>2</td>\n",
              "      <td>0</td>\n",
              "      <td>20161219203650636.jpg.chip.jpg</td>\n",
              "      <td>129 128 128 126 127 130 133 135 139 142 145 14...</td>\n",
              "    </tr>\n",
              "    <tr>\n",
              "      <th>1</th>\n",
              "      <td>1</td>\n",
              "      <td>2</td>\n",
              "      <td>0</td>\n",
              "      <td>20161219222752047.jpg.chip.jpg</td>\n",
              "      <td>164 74 111 168 169 171 175 182 184 188 193 199...</td>\n",
              "    </tr>\n",
              "    <tr>\n",
              "      <th>2</th>\n",
              "      <td>1</td>\n",
              "      <td>2</td>\n",
              "      <td>0</td>\n",
              "      <td>20161219222832191.jpg.chip.jpg</td>\n",
              "      <td>67 70 71 70 69 67 70 79 90 103 116 132 145 155...</td>\n",
              "    </tr>\n",
              "    <tr>\n",
              "      <th>3</th>\n",
              "      <td>1</td>\n",
              "      <td>2</td>\n",
              "      <td>0</td>\n",
              "      <td>20161220144911423.jpg.chip.jpg</td>\n",
              "      <td>193 197 198 200 199 200 202 203 204 205 208 21...</td>\n",
              "    </tr>\n",
              "    <tr>\n",
              "      <th>4</th>\n",
              "      <td>1</td>\n",
              "      <td>2</td>\n",
              "      <td>0</td>\n",
              "      <td>20161220144914327.jpg.chip.jpg</td>\n",
              "      <td>202 205 209 210 209 209 210 211 212 214 218 21...</td>\n",
              "    </tr>\n",
              "  </tbody>\n",
              "</table>\n",
              "</div>"
            ],
            "text/plain": [
              "   age  ...                                             pixels\n",
              "0    1  ...  129 128 128 126 127 130 133 135 139 142 145 14...\n",
              "1    1  ...  164 74 111 168 169 171 175 182 184 188 193 199...\n",
              "2    1  ...  67 70 71 70 69 67 70 79 90 103 116 132 145 155...\n",
              "3    1  ...  193 197 198 200 199 200 202 203 204 205 208 21...\n",
              "4    1  ...  202 205 209 210 209 209 210 211 212 214 218 21...\n",
              "\n",
              "[5 rows x 5 columns]"
            ]
          },
          "metadata": {
            "tags": []
          },
          "execution_count": 7
        }
      ]
    },
    {
      "cell_type": "code",
      "metadata": {
        "colab": {
          "base_uri": "https://localhost:8080/",
          "height": 509
        },
        "id": "ca_leVBox8FB",
        "outputId": "af42ac43-32aa-49cd-a653-d94a44d588fa"
      },
      "source": [
        "# Inspecting the data\n",
        "\n",
        "data.info()\n",
        "data.describe()"
      ],
      "execution_count": 8,
      "outputs": [
        {
          "output_type": "stream",
          "text": [
            "<class 'pandas.core.frame.DataFrame'>\n",
            "RangeIndex: 23705 entries, 0 to 23704\n",
            "Data columns (total 5 columns):\n",
            " #   Column     Non-Null Count  Dtype \n",
            "---  ------     --------------  ----- \n",
            " 0   age        23705 non-null  int64 \n",
            " 1   ethnicity  23705 non-null  int64 \n",
            " 2   gender     23705 non-null  int64 \n",
            " 3   img_name   23705 non-null  object\n",
            " 4   pixels     23705 non-null  object\n",
            "dtypes: int64(3), object(2)\n",
            "memory usage: 926.1+ KB\n"
          ],
          "name": "stdout"
        },
        {
          "output_type": "execute_result",
          "data": {
            "text/html": [
              "<div>\n",
              "<style scoped>\n",
              "    .dataframe tbody tr th:only-of-type {\n",
              "        vertical-align: middle;\n",
              "    }\n",
              "\n",
              "    .dataframe tbody tr th {\n",
              "        vertical-align: top;\n",
              "    }\n",
              "\n",
              "    .dataframe thead th {\n",
              "        text-align: right;\n",
              "    }\n",
              "</style>\n",
              "<table border=\"1\" class=\"dataframe\">\n",
              "  <thead>\n",
              "    <tr style=\"text-align: right;\">\n",
              "      <th></th>\n",
              "      <th>age</th>\n",
              "      <th>ethnicity</th>\n",
              "      <th>gender</th>\n",
              "    </tr>\n",
              "  </thead>\n",
              "  <tbody>\n",
              "    <tr>\n",
              "      <th>count</th>\n",
              "      <td>23705.000000</td>\n",
              "      <td>23705.000000</td>\n",
              "      <td>23705.000000</td>\n",
              "    </tr>\n",
              "    <tr>\n",
              "      <th>mean</th>\n",
              "      <td>33.300907</td>\n",
              "      <td>1.269226</td>\n",
              "      <td>0.477283</td>\n",
              "    </tr>\n",
              "    <tr>\n",
              "      <th>std</th>\n",
              "      <td>19.885708</td>\n",
              "      <td>1.345638</td>\n",
              "      <td>0.499494</td>\n",
              "    </tr>\n",
              "    <tr>\n",
              "      <th>min</th>\n",
              "      <td>1.000000</td>\n",
              "      <td>0.000000</td>\n",
              "      <td>0.000000</td>\n",
              "    </tr>\n",
              "    <tr>\n",
              "      <th>25%</th>\n",
              "      <td>23.000000</td>\n",
              "      <td>0.000000</td>\n",
              "      <td>0.000000</td>\n",
              "    </tr>\n",
              "    <tr>\n",
              "      <th>50%</th>\n",
              "      <td>29.000000</td>\n",
              "      <td>1.000000</td>\n",
              "      <td>0.000000</td>\n",
              "    </tr>\n",
              "    <tr>\n",
              "      <th>75%</th>\n",
              "      <td>45.000000</td>\n",
              "      <td>2.000000</td>\n",
              "      <td>1.000000</td>\n",
              "    </tr>\n",
              "    <tr>\n",
              "      <th>max</th>\n",
              "      <td>116.000000</td>\n",
              "      <td>4.000000</td>\n",
              "      <td>1.000000</td>\n",
              "    </tr>\n",
              "  </tbody>\n",
              "</table>\n",
              "</div>"
            ],
            "text/plain": [
              "                age     ethnicity        gender\n",
              "count  23705.000000  23705.000000  23705.000000\n",
              "mean      33.300907      1.269226      0.477283\n",
              "std       19.885708      1.345638      0.499494\n",
              "min        1.000000      0.000000      0.000000\n",
              "25%       23.000000      0.000000      0.000000\n",
              "50%       29.000000      1.000000      0.000000\n",
              "75%       45.000000      2.000000      1.000000\n",
              "max      116.000000      4.000000      1.000000"
            ]
          },
          "metadata": {
            "tags": []
          },
          "execution_count": 8
        }
      ]
    },
    {
      "cell_type": "code",
      "metadata": {
        "id": "wl_g9dQ0hXGB"
      },
      "source": [
        "# Change Image name\n",
        "\n",
        "data['img_name'] = data['img_name'].apply(lambda x: x.split('.')[0] + '.jpg')"
      ],
      "execution_count": 9,
      "outputs": []
    },
    {
      "cell_type": "code",
      "metadata": {
        "id": "rNjcCfrV0DK8"
      },
      "source": [
        "# Important directory paths\n",
        "\n",
        "main_dir = './img_data/'"
      ],
      "execution_count": 10,
      "outputs": []
    },
    {
      "cell_type": "code",
      "metadata": {
        "id": "xNN5zRz50Tcd"
      },
      "source": [
        "# Required functions\n",
        "\n",
        "def row2img(row, save_dir):\n",
        "    img_data = np.array(list(map(int, row['pixels'].split())), dtype='uint8').reshape(48, 48)\n",
        "\n",
        "    img = Image.fromarray(img_data)\n",
        "    img.save(save_dir+row['img_name'], format='jpeg')"
      ],
      "execution_count": 11,
      "outputs": []
    },
    {
      "cell_type": "code",
      "metadata": {
        "id": "bq4gKj47yT36"
      },
      "source": [
        "# Convert pixels to images\n",
        "\n",
        "if not os.path.isdir(main_dir):\n",
        "    os.mkdir(main_dir)\n",
        "\n",
        "_ = data.apply(lambda x: row2img(x, main_dir), axis=1)"
      ],
      "execution_count": 12,
      "outputs": []
    },
    {
      "cell_type": "code",
      "metadata": {
        "id": "syOe1UetmJnY"
      },
      "source": [
        "# Actual Data\n",
        "\n",
        "actual_data = data[['age', 'gender', 'img_name']].copy()"
      ],
      "execution_count": 13,
      "outputs": []
    },
    {
      "cell_type": "code",
      "metadata": {
        "colab": {
          "base_uri": "https://localhost:8080/"
        },
        "id": "ek29H6iejZpN",
        "outputId": "e59abb4c-9403-47ba-d94c-b19866d60731"
      },
      "source": [
        "# Getting the data\n",
        "\n",
        "img_h = 48\n",
        "img_w = 48\n",
        "\n",
        "datagen = tf.keras.preprocessing.image.ImageDataGenerator(\n",
        "    rescale=1/255.,\n",
        "    horizontal_flip=True,\n",
        "    vertical_flip=True,\n",
        "    validation_split=0.2\n",
        ")\n",
        "\n",
        "train_gen = datagen.flow_from_dataframe(\n",
        "    dataframe=actual_data,\n",
        "    directory=main_dir,\n",
        "    subset='training',\n",
        "    target_size=(img_h, img_w),\n",
        "    x_col='img_name',\n",
        "    y_col=['age', 'gender'],\n",
        "    class_mode=\"multi_output\"\n",
        ")\n",
        "\n",
        "test_gen = datagen.flow_from_dataframe(\n",
        "    dataframe=actual_data,\n",
        "    directory=main_dir,\n",
        "    subset='validation',\n",
        "    target_size=(img_h, img_w),\n",
        "    x_col='img_name',\n",
        "    y_col=['age', 'gender'],\n",
        "    class_mode=\"multi_output\"\n",
        ")"
      ],
      "execution_count": 14,
      "outputs": [
        {
          "output_type": "stream",
          "text": [
            "Found 18964 validated image filenames.\n",
            "Found 4741 validated image filenames.\n"
          ],
          "name": "stdout"
        }
      ]
    },
    {
      "cell_type": "code",
      "metadata": {
        "id": "FyIFhZsXksQZ"
      },
      "source": [
        "# Getting the model\n",
        "\n",
        "input_layer = tf.keras.layers.Input(shape=(img_w, img_h, 3))\n",
        "\n",
        "pretrained = tf.keras.applications.vgg16.VGG16(include_top=False, weights='imagenet', input_tensor=input_layer)\n",
        "\n",
        "for layer in pretrained.layers:\n",
        "    layer.trainable = True\n",
        "\n",
        "flatten = tf.keras.layers.Flatten()(pretrained.output)\n",
        "dense = tf.keras.layers.Dense(128, activation='relu')(flatten)\n",
        "dense = tf.keras.layers.Dense(64, activation='relu')(dense)\n",
        "dense = tf.keras.layers.Dense(2)(dense)\n",
        "\n",
        "model = tf.keras.models.Model(inputs=pretrained.input, outputs=dense)"
      ],
      "execution_count": 15,
      "outputs": []
    },
    {
      "cell_type": "code",
      "metadata": {
        "colab": {
          "base_uri": "https://localhost:8080/"
        },
        "id": "iRjJoekUogLK",
        "outputId": "d905bc35-5272-440c-d89b-777234006425"
      },
      "source": [
        "# Model Summary\n",
        "\n",
        "model.summary()"
      ],
      "execution_count": 16,
      "outputs": [
        {
          "output_type": "stream",
          "text": [
            "Model: \"model\"\n",
            "_________________________________________________________________\n",
            "Layer (type)                 Output Shape              Param #   \n",
            "=================================================================\n",
            "input_1 (InputLayer)         [(None, 48, 48, 3)]       0         \n",
            "_________________________________________________________________\n",
            "block1_conv1 (Conv2D)        (None, 48, 48, 64)        1792      \n",
            "_________________________________________________________________\n",
            "block1_conv2 (Conv2D)        (None, 48, 48, 64)        36928     \n",
            "_________________________________________________________________\n",
            "block1_pool (MaxPooling2D)   (None, 24, 24, 64)        0         \n",
            "_________________________________________________________________\n",
            "block2_conv1 (Conv2D)        (None, 24, 24, 128)       73856     \n",
            "_________________________________________________________________\n",
            "block2_conv2 (Conv2D)        (None, 24, 24, 128)       147584    \n",
            "_________________________________________________________________\n",
            "block2_pool (MaxPooling2D)   (None, 12, 12, 128)       0         \n",
            "_________________________________________________________________\n",
            "block3_conv1 (Conv2D)        (None, 12, 12, 256)       295168    \n",
            "_________________________________________________________________\n",
            "block3_conv2 (Conv2D)        (None, 12, 12, 256)       590080    \n",
            "_________________________________________________________________\n",
            "block3_conv3 (Conv2D)        (None, 12, 12, 256)       590080    \n",
            "_________________________________________________________________\n",
            "block3_pool (MaxPooling2D)   (None, 6, 6, 256)         0         \n",
            "_________________________________________________________________\n",
            "block4_conv1 (Conv2D)        (None, 6, 6, 512)         1180160   \n",
            "_________________________________________________________________\n",
            "block4_conv2 (Conv2D)        (None, 6, 6, 512)         2359808   \n",
            "_________________________________________________________________\n",
            "block4_conv3 (Conv2D)        (None, 6, 6, 512)         2359808   \n",
            "_________________________________________________________________\n",
            "block4_pool (MaxPooling2D)   (None, 3, 3, 512)         0         \n",
            "_________________________________________________________________\n",
            "block5_conv1 (Conv2D)        (None, 3, 3, 512)         2359808   \n",
            "_________________________________________________________________\n",
            "block5_conv2 (Conv2D)        (None, 3, 3, 512)         2359808   \n",
            "_________________________________________________________________\n",
            "block5_conv3 (Conv2D)        (None, 3, 3, 512)         2359808   \n",
            "_________________________________________________________________\n",
            "block5_pool (MaxPooling2D)   (None, 1, 1, 512)         0         \n",
            "_________________________________________________________________\n",
            "flatten (Flatten)            (None, 512)               0         \n",
            "_________________________________________________________________\n",
            "dense (Dense)                (None, 128)               65664     \n",
            "_________________________________________________________________\n",
            "dense_1 (Dense)              (None, 64)                8256      \n",
            "_________________________________________________________________\n",
            "dense_2 (Dense)              (None, 2)                 130       \n",
            "=================================================================\n",
            "Total params: 14,788,738\n",
            "Trainable params: 14,788,738\n",
            "Non-trainable params: 0\n",
            "_________________________________________________________________\n"
          ],
          "name": "stdout"
        }
      ]
    },
    {
      "cell_type": "code",
      "metadata": {
        "id": "UXS0q9N6p6S8"
      },
      "source": [
        "# Model Hyperparameters\n",
        "\n",
        "epochs = 30\n",
        "batch_size = 32"
      ],
      "execution_count": 17,
      "outputs": []
    },
    {
      "cell_type": "code",
      "metadata": {
        "id": "NGLrEOy3q1BU"
      },
      "source": [
        "# Compiling the model\n",
        "\n",
        "loss = ['mse']\n",
        "# metric = [tf.keras.metrics.Accuracy()]\n",
        "optim = tf.keras.optimizers.Adam(learning_rate=0.0001)\n",
        "\n",
        "model.compile(optimizer=optim, loss=loss)"
      ],
      "execution_count": 18,
      "outputs": []
    },
    {
      "cell_type": "code",
      "metadata": {
        "id": "bxB-z9i-pIrD"
      },
      "source": [
        "# Defining the callbacks\n",
        "\n",
        "reduce_lr = tf.keras.callbacks.ReduceLROnPlateau(monitor='val_loss', factor=np.sqrt(0.1), patience=5)\n",
        "model_checkpoint = tf.keras.callbacks.ModelCheckpoint('model_weights.hdf5', monitor='val_loss', mode='min', save_best_only=True, save_weights_only=True)\n",
        "\n",
        "callbacks = [model_checkpoint, reduce_lr]"
      ],
      "execution_count": 19,
      "outputs": []
    },
    {
      "cell_type": "code",
      "metadata": {
        "colab": {
          "base_uri": "https://localhost:8080/"
        },
        "id": "L-9rzcjfrDtH",
        "outputId": "29ef0b3b-3440-43bf-8db3-b8d3c80a976b"
      },
      "source": [
        "# Fitting the model\n",
        "\n",
        "model.fit(train_gen, validation_data=test_gen, epochs=epochs, batch_size=batch_size, callbacks=callbacks, shuffle=True)"
      ],
      "execution_count": 20,
      "outputs": [
        {
          "output_type": "stream",
          "text": [
            "Epoch 1/30\n",
            "593/593 [==============================] - 56s 88ms/step - loss: 312.2932 - val_loss: 127.9165\n",
            "Epoch 2/30\n",
            "593/593 [==============================] - 51s 86ms/step - loss: 124.1703 - val_loss: 92.8425\n",
            "Epoch 3/30\n",
            "593/593 [==============================] - 51s 86ms/step - loss: 105.3367 - val_loss: 90.5693\n",
            "Epoch 4/30\n",
            "593/593 [==============================] - 51s 85ms/step - loss: 90.2118 - val_loss: 108.5617\n",
            "Epoch 5/30\n",
            "593/593 [==============================] - 51s 86ms/step - loss: 79.3268 - val_loss: 111.4655\n",
            "Epoch 6/30\n",
            "593/593 [==============================] - 51s 86ms/step - loss: 74.3130 - val_loss: 134.7293\n",
            "Epoch 7/30\n",
            "593/593 [==============================] - 51s 85ms/step - loss: 72.5686 - val_loss: 116.8457\n",
            "Epoch 8/30\n",
            "593/593 [==============================] - 51s 85ms/step - loss: 66.8657 - val_loss: 122.2404\n",
            "Epoch 9/30\n",
            "593/593 [==============================] - 51s 85ms/step - loss: 55.5891 - val_loss: 102.4055\n",
            "Epoch 10/30\n",
            "593/593 [==============================] - 51s 86ms/step - loss: 51.0621 - val_loss: 100.4336\n",
            "Epoch 11/30\n",
            "593/593 [==============================] - 51s 85ms/step - loss: 49.1283 - val_loss: 100.3178\n",
            "Epoch 12/30\n",
            "593/593 [==============================] - 51s 85ms/step - loss: 47.3397 - val_loss: 102.9634\n",
            "Epoch 13/30\n",
            "593/593 [==============================] - 51s 86ms/step - loss: 44.4144 - val_loss: 86.0010\n",
            "Epoch 14/30\n",
            "593/593 [==============================] - 51s 86ms/step - loss: 42.2025 - val_loss: 107.5995\n",
            "Epoch 15/30\n",
            "593/593 [==============================] - 51s 86ms/step - loss: 41.6486 - val_loss: 98.4490\n",
            "Epoch 16/30\n",
            "593/593 [==============================] - 51s 85ms/step - loss: 39.3652 - val_loss: 92.4434\n",
            "Epoch 17/30\n",
            "593/593 [==============================] - 51s 85ms/step - loss: 38.7455 - val_loss: 80.9485\n",
            "Epoch 18/30\n",
            "593/593 [==============================] - 51s 86ms/step - loss: 36.4528 - val_loss: 93.6195\n",
            "Epoch 19/30\n",
            "593/593 [==============================] - 51s 86ms/step - loss: 33.0388 - val_loss: 103.2770\n",
            "Epoch 20/30\n",
            "593/593 [==============================] - 51s 86ms/step - loss: 31.0763 - val_loss: 89.1920\n",
            "Epoch 21/30\n",
            "593/593 [==============================] - 51s 86ms/step - loss: 31.8647 - val_loss: 92.9466\n",
            "Epoch 22/30\n",
            "593/593 [==============================] - 51s 86ms/step - loss: 28.0195 - val_loss: 89.9470\n",
            "Epoch 23/30\n",
            "593/593 [==============================] - 51s 86ms/step - loss: 23.3199 - val_loss: 93.3157\n",
            "Epoch 24/30\n",
            "593/593 [==============================] - 51s 85ms/step - loss: 21.4462 - val_loss: 89.4842\n",
            "Epoch 25/30\n",
            "593/593 [==============================] - 51s 86ms/step - loss: 20.8208 - val_loss: 81.3879\n",
            "Epoch 26/30\n",
            "593/593 [==============================] - 51s 86ms/step - loss: 20.1299 - val_loss: 88.6844\n",
            "Epoch 27/30\n",
            "593/593 [==============================] - 51s 86ms/step - loss: 19.1973 - val_loss: 82.1563\n",
            "Epoch 28/30\n",
            "593/593 [==============================] - 51s 85ms/step - loss: 16.7578 - val_loss: 85.7300\n",
            "Epoch 29/30\n",
            "593/593 [==============================] - 51s 86ms/step - loss: 16.2748 - val_loss: 87.4543\n",
            "Epoch 30/30\n",
            "593/593 [==============================] - 51s 85ms/step - loss: 16.5562 - val_loss: 88.0283\n"
          ],
          "name": "stdout"
        },
        {
          "output_type": "execute_result",
          "data": {
            "text/plain": [
              "<tensorflow.python.keras.callbacks.History at 0x7f74c01a09d0>"
            ]
          },
          "metadata": {
            "tags": []
          },
          "execution_count": 20
        }
      ]
    }
  ]
}